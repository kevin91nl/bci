{
 "cells": [
  {
   "cell_type": "code",
   "execution_count": 1,
   "metadata": {
    "collapsed": false
   },
   "outputs": [
    {
     "name": "stderr",
     "output_type": "stream",
     "text": [
      "Using TensorFlow backend.\n"
     ]
    }
   ],
   "source": [
    "from keras.layers import LSTM, Activation\n",
    "from keras.models import Sequential\n",
    "from keras.optimizers import RMSprop\n",
    "import numpy as np"
   ]
  },
  {
   "cell_type": "code",
   "execution_count": 3,
   "metadata": {
    "collapsed": false
   },
   "outputs": [],
   "source": [
    "model = Sequential()\n",
    "# 1 output, 2 timesteps, 1 component per timestep\n",
    "model.add(LSTM(2, input_shape=(2, 1)))\n",
    "model.add(Activation('softmax'))\n",
    "\n",
    "optimizer = RMSprop(lr=0.01)\n",
    "model.compile(loss='categorical_crossentropy', optimizer=optimizer)"
   ]
  },
  {
   "cell_type": "code",
   "execution_count": 4,
   "metadata": {
    "collapsed": false
   },
   "outputs": [
    {
     "name": "stdout",
     "output_type": "stream",
     "text": [
      "Epoch 1/20\n",
      "1/1 [==============================] - 1s - loss: 0.9226\n",
      "Epoch 2/20\n",
      "1/1 [==============================] - 0s - loss: 0.8853\n",
      "Epoch 3/20\n",
      "1/1 [==============================] - 0s - loss: 0.8603\n",
      "Epoch 4/20\n",
      "1/1 [==============================] - 0s - loss: 0.8405\n",
      "Epoch 5/20\n",
      "1/1 [==============================] - 0s - loss: 0.8238\n",
      "Epoch 6/20\n",
      "1/1 [==============================] - 0s - loss: 0.8092\n",
      "Epoch 7/20\n",
      "1/1 [==============================] - 0s - loss: 0.7962\n",
      "Epoch 8/20\n",
      "1/1 [==============================] - 0s - loss: 0.7843\n",
      "Epoch 9/20\n",
      "1/1 [==============================] - 0s - loss: 0.7734\n",
      "Epoch 10/20\n",
      "1/1 [==============================] - 0s - loss: 0.7632\n",
      "Epoch 11/20\n",
      "1/1 [==============================] - 0s - loss: 0.7537\n",
      "Epoch 12/20\n",
      "1/1 [==============================] - 0s - loss: 0.7448\n",
      "Epoch 13/20\n",
      "1/1 [==============================] - 0s - loss: 0.7363\n",
      "Epoch 14/20\n",
      "1/1 [==============================] - 0s - loss: 0.7283\n",
      "Epoch 15/20\n",
      "1/1 [==============================] - 0s - loss: 0.7207\n",
      "Epoch 16/20\n",
      "1/1 [==============================] - 0s - loss: 0.7134\n",
      "Epoch 17/20\n",
      "1/1 [==============================] - 0s - loss: 0.7064\n",
      "Epoch 18/20\n",
      "1/1 [==============================] - 0s - loss: 0.6996\n",
      "Epoch 19/20\n",
      "1/1 [==============================] - 0s - loss: 0.6931\n",
      "Epoch 20/20\n",
      "1/1 [==============================] - 0s - loss: 0.6868\n",
      "[[ 0.50630385  0.49369612]]\n"
     ]
    }
   ],
   "source": [
    "X = np.zeros((1, 2, 1))\n",
    "X[0, 0, 0] = 1\n",
    "X[0, 1, 0] = 0\n",
    "model.fit(X, np.matrix([[1.0, 0.0]]), nb_epoch=20)\n",
    "\n",
    "print(model.predict(X))"
   ]
  },
  {
   "cell_type": "code",
   "execution_count": null,
   "metadata": {
    "collapsed": true
   },
   "outputs": [],
   "source": []
  }
 ],
 "metadata": {
  "anaconda-cloud": {},
  "kernelspec": {
   "display_name": "Python [Root]",
   "language": "python",
   "name": "Python [Root]"
  },
  "language_info": {
   "codemirror_mode": {
    "name": "ipython",
    "version": 3
   },
   "file_extension": ".py",
   "mimetype": "text/x-python",
   "name": "python",
   "nbconvert_exporter": "python",
   "pygments_lexer": "ipython3",
   "version": "3.5.2"
  }
 },
 "nbformat": 4,
 "nbformat_minor": 0
}
